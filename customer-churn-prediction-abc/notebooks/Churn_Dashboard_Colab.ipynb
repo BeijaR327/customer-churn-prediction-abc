{
 "cells": [
  {
   "cell_type": "markdown",
   "id": "07f69249",
   "metadata": {},
   "source": [
    "\n",
    "# 🔗 ABC Churn Dashboard — Colab Launcher\n",
    "\n",
    "This notebook launches the **Streamlit dashboard** from the repo in Google Colab.  \n",
    "It supports a public URL via **ngrok** (optional but recommended).\n",
    "\n",
    "**What you need:**\n",
    "- A public GitHub repo: `https://github.com/BeijaR327/customer-churn-prediction-abc`\n",
    "- (Optional) An ngrok auth token from https://dashboard.ngrok.com/get-started/your-authtoken\n"
   ]
  },
  {
   "cell_type": "markdown",
   "id": "cb6e50c9",
   "metadata": {},
   "source": [
    "\n",
    "## 1) Install dependencies\n"
   ]
  },
  {
   "cell_type": "code",
   "execution_count": null,
   "id": "49fdd9b5",
   "metadata": {},
   "outputs": [],
   "source": [
    "\n",
    "!pip -q install streamlit pyngrok pandas numpy scikit-learn matplotlib joblib\n"
   ]
  },
  {
   "cell_type": "markdown",
   "id": "2987faf1",
   "metadata": {},
   "source": [
    "\n",
    "## 2) Clone the repo (or pull latest)\n",
    "If you forked/renamed the repo, edit the URL below.\n"
   ]
  },
  {
   "cell_type": "code",
   "execution_count": null,
   "id": "af8a874d",
   "metadata": {},
   "outputs": [],
   "source": [
    "\n",
    "import os, shutil, subprocess, sys\n",
    "\n",
    "REPO_URL = \"https://github.com/BeijaR327/customer-churn-prediction-abc.git\"\n",
    "REPO_DIR = \"customer-churn-prediction-abc\"\n",
    "\n",
    "if os.path.exists(REPO_DIR):\n",
    "    print(\"Repo exists — pulling latest...\")\n",
    "    %cd $REPO_DIR\n",
    "    !git pull\n",
    "    %cd -\n",
    "else:\n",
    "    !git clone $REPO_URL\n",
    "    %cd $REPO_DIR\n",
    "    print(\"Cloned.\")\n",
    "    %cd -\n"
   ]
  },
  {
   "cell_type": "markdown",
   "id": "73d4e3ac",
   "metadata": {},
   "source": [
    "\n",
    "## 3) (Optional) Add your data and/or pre-train a model\n",
    "If your repo already includes `customer_data.csv` at the root, the app can train on launch.  \n",
    "If not, upload a CSV in the app once it opens.\n",
    "\n",
    "You can also pre-train a model so the app loads it instantly:\n"
   ]
  },
  {
   "cell_type": "code",
   "execution_count": null,
   "id": "15c54981",
   "metadata": {},
   "outputs": [],
   "source": [
    "\n",
    "# OPTIONAL: Pre-train champion (expects data/customer_data.csv)\n",
    "# from google.colab import drive\n",
    "# drive.mount('/content/drive')  # if pulling data from Drive\n",
    "#\n",
    "# %cd customer-churn-prediction-abc/churn_dashboard\n",
    "# !python src/train_champion.py\n",
    "# %cd /content\n"
   ]
  },
  {
   "cell_type": "markdown",
   "id": "f311ee24",
   "metadata": {},
   "source": [
    "\n",
    "## 4) Launch Streamlit (with optional public URL)\n",
    "- If you have an **ngrok token**, enter it below to get a public URL.\n",
    "- If you **skip the token**, the app still runs, but without an external URL.\n"
   ]
  },
  {
   "cell_type": "code",
   "execution_count": null,
   "id": "34130d5e",
   "metadata": {},
   "outputs": [],
   "source": [
    "\n",
    "import os\n",
    "from pyngrok import ngrok\n",
    "\n",
    "NGROK_AUTH_TOKEN = input(\"Paste your ngrok auth token (or press Enter to skip): \").strip()\n",
    "if NGROK_AUTH_TOKEN:\n",
    "    ngrok.set_auth_token(NGROK_AUTH_TOKEN)\n",
    "    public_url = ngrok.connect(addr=8501, proto=\"http\").public_url\n",
    "    print(\"Public URL:\", public_url)\n",
    "else:\n",
    "    public_url = None\n",
    "    print(\"No ngrok token provided — app will run locally only.\")\n",
    "\n",
    "# Start Streamlit in the background\n",
    "%cd customer-churn-prediction-abc/churn_dashboard\n",
    "!streamlit run app.py &\n",
    "\n",
    "print(\"\\nIf you provided an ngrok token, open the Public URL above.\")\n",
    "print(\"If not, use Colab's 'output' link for the running process to preview (if available).\")\n"
   ]
  }
 ],
 "metadata": {},
 "nbformat": 4,
 "nbformat_minor": 5
}
